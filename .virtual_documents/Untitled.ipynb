import pandas as pd


#read the csv file
shipments=pd.read_csv('data/sample_shipments.csv')


shipments.head()









