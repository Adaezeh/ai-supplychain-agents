{
 "cells": [
  {
   "cell_type": "code",
   "execution_count": 1,
   "id": "6ee02add-e3b3-4694-a2e9-639f4c58fa9b",
   "metadata": {},
   "outputs": [],
   "source": [
    "import pandas as pd"
   ]
  },
  {
   "cell_type": "code",
   "execution_count": 7,
   "id": "e124c99e-ec94-4de1-bf7d-f00c910ea428",
   "metadata": {},
   "outputs": [],
   "source": [
    "#read the csv file\n",
    "shipments=pd.read_csv('data/sample_shipments.csv')"
   ]
  },
  {
   "cell_type": "code",
   "execution_count": 9,
   "id": "86ad0ece-83d7-41cd-8ffb-dadc5bd888b2",
   "metadata": {},
   "outputs": [
    {
     "data": {
      "text/html": [
       "<div>\n",
       "<style scoped>\n",
       "    .dataframe tbody tr th:only-of-type {\n",
       "        vertical-align: middle;\n",
       "    }\n",
       "\n",
       "    .dataframe tbody tr th {\n",
       "        vertical-align: top;\n",
       "    }\n",
       "\n",
       "    .dataframe thead th {\n",
       "        text-align: right;\n",
       "    }\n",
       "</style>\n",
       "<table border=\"1\" class=\"dataframe\">\n",
       "  <thead>\n",
       "    <tr style=\"text-align: right;\">\n",
       "      <th></th>\n",
       "      <th>BL Number</th>\n",
       "      <th>Shipment ID</th>\n",
       "      <th>Origin</th>\n",
       "      <th>Destination</th>\n",
       "      <th>Departure Date</th>\n",
       "      <th>ETA</th>\n",
       "      <th>Carrier</th>\n",
       "      <th>Weight (tons)</th>\n",
       "      <th>Status</th>\n",
       "    </tr>\n",
       "  </thead>\n",
       "  <tbody>\n",
       "    <tr>\n",
       "      <th>0</th>\n",
       "      <td>BL12345678</td>\n",
       "      <td>SHP001</td>\n",
       "      <td>Hamburg</td>\n",
       "      <td>New York</td>\n",
       "      <td>2025-05-01</td>\n",
       "      <td>2025-05-10</td>\n",
       "      <td>Maersk</td>\n",
       "      <td>10</td>\n",
       "      <td>In Transit</td>\n",
       "    </tr>\n",
       "    <tr>\n",
       "      <th>1</th>\n",
       "      <td>BL23456789</td>\n",
       "      <td>SHP002</td>\n",
       "      <td>Shanghai</td>\n",
       "      <td>Rotterdam</td>\n",
       "      <td>2025-05-02</td>\n",
       "      <td>2025-05-12</td>\n",
       "      <td>CMA CGM</td>\n",
       "      <td>15</td>\n",
       "      <td>In Transit</td>\n",
       "    </tr>\n",
       "    <tr>\n",
       "      <th>2</th>\n",
       "      <td>BL34567890</td>\n",
       "      <td>SHP003</td>\n",
       "      <td>Rotterdam</td>\n",
       "      <td>Lagos</td>\n",
       "      <td>2025-05-03</td>\n",
       "      <td>2025-05-15</td>\n",
       "      <td>Hapag-Lloyd</td>\n",
       "      <td>8</td>\n",
       "      <td>In Transit</td>\n",
       "    </tr>\n",
       "    <tr>\n",
       "      <th>3</th>\n",
       "      <td>BL45678901</td>\n",
       "      <td>SHP004</td>\n",
       "      <td>Lagos</td>\n",
       "      <td>Hamburg</td>\n",
       "      <td>2025-05-04</td>\n",
       "      <td>2025-05-18</td>\n",
       "      <td>MSC</td>\n",
       "      <td>12</td>\n",
       "      <td>In Transit</td>\n",
       "    </tr>\n",
       "    <tr>\n",
       "      <th>4</th>\n",
       "      <td>BL56789012</td>\n",
       "      <td>SHP005</td>\n",
       "      <td>Los Angeles</td>\n",
       "      <td>Shanghai</td>\n",
       "      <td>2025-05-05</td>\n",
       "      <td>2025-05-20</td>\n",
       "      <td>Evergreen</td>\n",
       "      <td>20</td>\n",
       "      <td>In Transit</td>\n",
       "    </tr>\n",
       "  </tbody>\n",
       "</table>\n",
       "</div>"
      ],
      "text/plain": [
       "    BL Number Shipment ID       Origin Destination Departure Date         ETA  \\\n",
       "0  BL12345678      SHP001      Hamburg    New York     2025-05-01  2025-05-10   \n",
       "1  BL23456789      SHP002     Shanghai   Rotterdam     2025-05-02  2025-05-12   \n",
       "2  BL34567890      SHP003    Rotterdam       Lagos     2025-05-03  2025-05-15   \n",
       "3  BL45678901      SHP004        Lagos     Hamburg     2025-05-04  2025-05-18   \n",
       "4  BL56789012      SHP005  Los Angeles    Shanghai     2025-05-05  2025-05-20   \n",
       "\n",
       "       Carrier  Weight (tons)      Status  \n",
       "0       Maersk             10  In Transit  \n",
       "1      CMA CGM             15  In Transit  \n",
       "2  Hapag-Lloyd              8  In Transit  \n",
       "3          MSC             12  In Transit  \n",
       "4    Evergreen             20  In Transit  "
      ]
     },
     "execution_count": 9,
     "metadata": {},
     "output_type": "execute_result"
    }
   ],
   "source": [
    "shipments.head()"
   ]
  },
  {
   "cell_type": "code",
   "execution_count": 11,
   "id": "fa8e23d7-0ba0-4e3e-92ee-c86b87747abd",
   "metadata": {},
   "outputs": [],
   "source": [
    "#convert date column to datetime\n",
    "shipments[\"Departure Date\"] =pd.to_datetime(shipments[\"Departure Date\"])\n",
    "shipments[\"ETA\"] =pd.to_datetime(shipments[\"ETA\"])"
   ]
  },
  {
   "cell_type": "code",
   "execution_count": 13,
   "id": "907f886e-6755-4f8a-90d3-573a6012dd85",
   "metadata": {},
   "outputs": [],
   "source": [
    "#calculate transit days\n",
    "shipments[\"Transit Days\"] = (shipments[\"ETA\"] - shipments[\"Departure Date\"]). dt.days"
   ]
  },
  {
   "cell_type": "code",
   "execution_count": 17,
   "id": "87cc9f9e-12cf-41ae-b9a2-3c0ddf1216db",
   "metadata": {},
   "outputs": [
    {
     "data": {
      "text/plain": [
       "0     9\n",
       "1    10\n",
       "2    12\n",
       "3    14\n",
       "4    15\n",
       "Name: Transit Days, dtype: int64"
      ]
     },
     "execution_count": 17,
     "metadata": {},
     "output_type": "execute_result"
    }
   ],
   "source": [
    "shipments[\"Transit Days\"]"
   ]
  },
  {
   "cell_type": "code",
   "execution_count": null,
   "id": "893448d1-3dd0-4a8e-9f20-f7bc138a921a",
   "metadata": {},
   "outputs": [],
   "source": []
  },
  {
   "cell_type": "code",
   "execution_count": null,
   "id": "2332908b-3a15-43df-8126-f3f600e9aa97",
   "metadata": {},
   "outputs": [],
   "source": []
  },
  {
   "cell_type": "code",
   "execution_count": null,
   "id": "d1d61649-678b-4955-8911-3d808d019b29",
   "metadata": {},
   "outputs": [],
   "source": []
  },
  {
   "cell_type": "code",
   "execution_count": null,
   "id": "502233f6-e4f7-46ef-8d11-6690c49d2e52",
   "metadata": {},
   "outputs": [],
   "source": []
  },
  {
   "cell_type": "code",
   "execution_count": null,
   "id": "4b758a62-4068-4fbb-ab79-0c467282d5b8",
   "metadata": {},
   "outputs": [],
   "source": []
  },
  {
   "cell_type": "code",
   "execution_count": null,
   "id": "1b8c83b9-5e2d-45f1-b7b0-166f4783c177",
   "metadata": {},
   "outputs": [],
   "source": []
  },
  {
   "cell_type": "code",
   "execution_count": null,
   "id": "7f5bb0ba-c638-42d5-a21d-87d67e76f668",
   "metadata": {},
   "outputs": [],
   "source": []
  }
 ],
 "metadata": {
  "kernelspec": {
   "display_name": "Python [conda env:base] *",
   "language": "python",
   "name": "conda-base-py"
  },
  "language_info": {
   "codemirror_mode": {
    "name": "ipython",
    "version": 3
   },
   "file_extension": ".py",
   "mimetype": "text/x-python",
   "name": "python",
   "nbconvert_exporter": "python",
   "pygments_lexer": "ipython3",
   "version": "3.12.7"
  }
 },
 "nbformat": 4,
 "nbformat_minor": 5
}
